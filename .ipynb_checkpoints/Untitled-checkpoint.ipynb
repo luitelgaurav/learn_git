{
 "cells": [
  {
   "cell_type": "code",
   "execution_count": 1,
   "id": "b9e17284",
   "metadata": {},
   "outputs": [],
   "source": [
    "import pandas as pd\n",
    "import numpy as np\n",
    "import matplotlib.pyplot as plt\n",
    "import re"
   ]
  },
  {
   "cell_type": "code",
   "execution_count": 10,
   "id": "ca2edd95",
   "metadata": {},
   "outputs": [],
   "source": [
    "random_ = np.random.random((10,2,3))"
   ]
  },
  {
   "cell_type": "code",
   "execution_count": 12,
   "id": "92d7aa27",
   "metadata": {},
   "outputs": [],
   "source": [
    "random_1 = np.random.random((10,2,3))"
   ]
  },
  {
   "cell_type": "code",
   "execution_count": 14,
   "id": "41bc3520",
   "metadata": {},
   "outputs": [
    {
     "data": {
      "text/plain": [
       "array([[0.06339245, 0.30121298, 0.21183769],\n",
       "       [0.23484931, 0.87537746, 0.11054572]])"
      ]
     },
     "execution_count": 14,
     "metadata": {},
     "output_type": "execute_result"
    }
   ],
   "source": [
    "multi = random_ * random_\n",
    "multi[3]"
   ]
  },
  {
   "cell_type": "code",
   "execution_count": null,
   "id": "6c5353cc",
   "metadata": {},
   "outputs": [],
   "source": []
  }
 ],
 "metadata": {
  "kernelspec": {
   "display_name": "Python 3 (ipykernel)",
   "language": "python",
   "name": "python3"
  },
  "language_info": {
   "codemirror_mode": {
    "name": "ipython",
    "version": 3
   },
   "file_extension": ".py",
   "mimetype": "text/x-python",
   "name": "python",
   "nbconvert_exporter": "python",
   "pygments_lexer": "ipython3",
   "version": "3.9.6"
  }
 },
 "nbformat": 4,
 "nbformat_minor": 5
}
