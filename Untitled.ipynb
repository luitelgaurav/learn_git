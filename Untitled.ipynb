{
 "cells": [
  {
   "cell_type": "code",
   "execution_count": 1,
   "id": "452a0cb4",
   "metadata": {},
   "outputs": [],
   "source": [
    "import pandas as pd\n",
    "import numpy as np\n",
    "import matplotlib.pyplot as plt\n",
    "import re"
   ]
  },
  {
   "cell_type": "code",
   "execution_count": 10,
   "id": "e24d0bf1",
   "metadata": {},
   "outputs": [],
   "source": [
    "random_ = np.random.random((10,2,3))"
   ]
  },
  {
   "cell_type": "code",
   "execution_count": 12,
   "id": "0cdaa7fb",
   "metadata": {},
   "outputs": [],
   "source": [
    "random_1 = np.random.random((10,2,3))"
   ]
  },
  {
   "cell_type": "code",
   "execution_count": 14,
   "id": "d90211eb",
   "metadata": {},
   "outputs": [
    {
     "data": {
      "text/plain": [
       "array([[0.06339245, 0.30121298, 0.21183769],\n",
       "       [0.23484931, 0.87537746, 0.11054572]])"
      ]
     },
     "execution_count": 14,
     "metadata": {},
     "output_type": "execute_result"
    }
   ],
   "source": [
    "multi = random_ * random_\n",
    "multi[3]"
   ]
  },
  {
   "cell_type": "code",
   "execution_count": null,
   "id": "7dc297ef",
   "metadata": {
    "collapsed": true
   },
   "outputs": [],
   "source": []
  }
 ],
 "metadata": {
  "kernelspec": {
   "display_name": "Python 3 (ipykernel)",
   "language": "python",
   "name": "python3"
  },
  "language_info": {
   "codemirror_mode": {
    "name": "ipython",
    "version": 3
   },
   "file_extension": ".py",
   "mimetype": "text/x-python",
   "name": "python",
   "nbconvert_exporter": "python",
   "pygments_lexer": "ipython3",
   "version": "3.9.6"
  }
 },
 "nbformat": 4,
 "nbformat_minor": 5
}
