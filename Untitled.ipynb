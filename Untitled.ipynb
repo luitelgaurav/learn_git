{
 "cells": [
  {
   "cell_type": "code",
   "execution_count": 1,
   "id": "b54bf3ba",
   "metadata": {},
   "outputs": [],
   "source": [
    "import pandas as pd\n",
    "import numpy as np\n",
    "import matplotlib.pyplot as plt\n",
    "import re"
   ]
  },
  {
   "cell_type": "code",
   "execution_count": 10,
   "id": "f4a04986",
   "metadata": {},
   "outputs": [],
   "source": [
    "random_ = np.random.random((10,2,3))"
   ]
  },
  {
   "cell_type": "code",
   "execution_count": 11,
   "id": "83afccc5",
   "metadata": {},
   "outputs": [
    {
     "data": {
      "text/plain": [
       "array([[[0.28459445, 0.2110209 , 0.68265026],\n",
       "        [0.93194555, 0.87024194, 0.87639663]],\n",
       "\n",
       "       [[0.58509276, 0.83864605, 0.83954975],\n",
       "        [0.5091679 , 0.33508871, 0.14353569]],\n",
       "\n",
       "       [[0.85731065, 0.33542839, 0.14738893],\n",
       "        [0.14044338, 0.70441071, 0.7820729 ]],\n",
       "\n",
       "       [[0.25177858, 0.54882873, 0.46025829],\n",
       "        [0.48461254, 0.93561608, 0.33248417]],\n",
       "\n",
       "       [[0.6570421 , 0.3342218 , 0.68035088],\n",
       "        [0.32493867, 0.83293066, 0.7173304 ]],\n",
       "\n",
       "       [[0.7258062 , 0.44676335, 0.86155385],\n",
       "        [0.84089735, 0.69060581, 0.9721399 ]],\n",
       "\n",
       "       [[0.88574993, 0.09029548, 0.72353923],\n",
       "        [0.24578584, 0.22230766, 0.17528298]],\n",
       "\n",
       "       [[0.28760733, 0.09440243, 0.64126344],\n",
       "        [0.87416301, 0.78052933, 0.11748085]],\n",
       "\n",
       "       [[0.07742605, 0.18662304, 0.11502683],\n",
       "        [0.57315681, 0.15528485, 0.7793403 ]],\n",
       "\n",
       "       [[0.12193221, 0.51310212, 0.74870736],\n",
       "        [0.01991581, 0.27988118, 0.77886184]]])"
      ]
     },
     "execution_count": 11,
     "metadata": {},
     "output_type": "execute_result"
    }
   ],
   "source": [
    "random_"
   ]
  },
  {
   "cell_type": "code",
   "execution_count": null,
   "id": "56ebdb2d",
   "metadata": {},
   "outputs": [],
   "source": []
  }
 ],
 "metadata": {
  "kernelspec": {
   "display_name": "Python 3 (ipykernel)",
   "language": "python",
   "name": "python3"
  },
  "language_info": {
   "codemirror_mode": {
    "name": "ipython",
    "version": 3
   },
   "file_extension": ".py",
   "mimetype": "text/x-python",
   "name": "python",
   "nbconvert_exporter": "python",
   "pygments_lexer": "ipython3",
   "version": "3.9.6"
  }
 },
 "nbformat": 4,
 "nbformat_minor": 5
}
